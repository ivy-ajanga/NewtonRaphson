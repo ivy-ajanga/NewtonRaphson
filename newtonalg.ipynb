{
 "cells": [
  {
   "cell_type": "markdown",
   "id": "681e9b76",
   "metadata": {},
   "source": [
    "# Logistic Regression using Newton Raphson Method"
   ]
  },
  {
   "cell_type": "markdown",
   "id": "6e8be6cb",
   "metadata": {},
   "source": [
    "Downloaded all the dependencies and packages needed to analyse the data."
   ]
  },
  {
   "cell_type": "code",
   "execution_count": 1,
   "id": "e6f90958",
   "metadata": {},
   "outputs": [],
   "source": [
    "import numpy as np\n",
    "import pandas as pd\n",
    "from sklearn.model_selection import train_test_split\n",
    "from sklearn import datasets"
   ]
  },
  {
   "cell_type": "markdown",
   "id": "d0d0e79d",
   "metadata": {},
   "source": [
    "Loaded the breast cancer data set from the datasets in sklearn which is same data as the one given in the downloaded link"
   ]
  },
  {
   "cell_type": "code",
   "execution_count": 2,
   "id": "67b5ffa7",
   "metadata": {},
   "outputs": [],
   "source": [
    "ab = datasets.load_breast_cancer()"
   ]
  },
  {
   "cell_type": "markdown",
   "id": "6ad00e0d",
   "metadata": {},
   "source": [
    "# Data Cleaning"
   ]
  },
  {
   "cell_type": "markdown",
   "id": "fe8a6dcb",
   "metadata": {},
   "source": [
    "Cleaned the data by renaming all the rows whereby python had assumed the first row as the names of all the rows."
   ]
  },
  {
   "cell_type": "code",
   "execution_count": 3,
   "id": "b882e8d8",
   "metadata": {},
   "outputs": [],
   "source": [
    "ab.columns =['id', 'Clump Thickness', 'Uniformity of Cell Size', 'Uniformity of Cell Shape', 'Marginal Adhesion', \n",
    "             'Single Epithelial Cell Size', 'Bare Nuclei', 'Bland Chromatin', 'Normal Nucleoli', 'Mitoses','diagnosis']"
   ]
  },
  {
   "cell_type": "markdown",
   "id": "26eca915",
   "metadata": {},
   "source": [
    "Defined the x and y variable which are used to split the data into test and train data sets."
   ]
  },
  {
   "cell_type": "code",
   "execution_count": 4,
   "id": "6d175922",
   "metadata": {},
   "outputs": [],
   "source": [
    "x = ab.data"
   ]
  },
  {
   "cell_type": "code",
   "execution_count": 5,
   "id": "04a9c15e",
   "metadata": {},
   "outputs": [],
   "source": [
    "y = ab.target"
   ]
  },
  {
   "cell_type": "markdown",
   "id": "0e3d7523",
   "metadata": {},
   "source": [
    "# Splitting and Data Training"
   ]
  },
  {
   "cell_type": "markdown",
   "id": "e66fed46",
   "metadata": {},
   "source": [
    "I divided the dataset ab randomly into 80% training instances and 20% testing instances as directed:"
   ]
  },
  {
   "cell_type": "code",
   "execution_count": 6,
   "id": "428b1131",
   "metadata": {},
   "outputs": [],
   "source": [
    "train_x, test_x,train_y, test_y = train_test_split(x, y, test_size=0.2)"
   ]
  },
  {
   "cell_type": "markdown",
   "id": "ffe85628",
   "metadata": {},
   "source": [
    "# Newton- Raphson Method"
   ]
  },
  {
   "cell_type": "markdown",
   "id": "0a9c9651",
   "metadata": {},
   "source": [
    "It is a second order optimization algorithm that allows to find best weights where we compute the hessian matrix, the gradient, the predicted probabilities and the acccuracy of the model as shown in the code below."
   ]
  },
  {
   "cell_type": "code",
   "execution_count": 7,
   "id": "d1bb287f",
   "metadata": {},
   "outputs": [],
   "source": [
    "def sigmoidalgorithm(number):             \n",
    "    return 1/(1+np.exp(-number))"
   ]
  },
  {
   "cell_type": "code",
   "execution_count": 8,
   "id": "7523545f",
   "metadata": {},
   "outputs": [],
   "source": [
    "def algorithmTopredict(val, w):\n",
    "    var_linear = np.dot(val,w)\n",
    "    val_y = sigmoidalgorithm( var_linear)\n",
    "    valcls_y = [1 if i>0.5 else 0 for i in val_y]\n",
    "    return  valcls_y "
   ]
  },
  {
   "cell_type": "code",
   "execution_count": 9,
   "id": "2fe79747",
   "metadata": {},
   "outputs": [],
   "source": [
    "def testaccuracyModel(val_y, predicted_y):\n",
    "    resultofAccuracy = np.sum(val_y == predicted_y)/len(val_y)\n",
    "    return resultofAccuracy"
   ]
  },
  {
   "cell_type": "markdown",
   "id": "24a67dac",
   "metadata": {},
   "source": [
    "# Training and Applying Newton algorithm on data set"
   ]
  },
  {
   "cell_type": "markdown",
   "id": "319faba2",
   "metadata": {},
   "source": [
    "The solution is faster because it allows to find best weights in logistic function in fewer iterations compared to gradient descent method."
   ]
  },
  {
   "cell_type": "code",
   "execution_count": 10,
   "id": "3a664c11",
   "metadata": {},
   "outputs": [],
   "source": [
    "def newton(item_a,item_b):\n",
    "    item_a = train_x\n",
    "    item_b = train_y\n",
    "\n",
    "    w = np.zeros(item_a.shape[1]) \n",
    "\n",
    "    totalIterations= 10;\n",
    "    newton_cost = np.zeros(( totalIterations,1))\n",
    "\n",
    "    for i in range( totalIterations):\n",
    "        H = 1/(1+np.exp(-item_a.dot(w)))\n",
    "        newton_cost[i] = -(1/(np.size(item_a,0)))*sum(item_b*np.log(H) + (1- item_b)*np.log(1-H))\n",
    "        findgradient = (1/(np.size(item_a,0)))*(item_a.T.dot((H-item_b)))\n",
    "        # hessian matrix\n",
    "        Hessian = (1/(np.size(item_a,0)))*(item_a.T.dot(np.diag(H.reshape(np.size(item_a,0),))).dot(np.diag((1-H).reshape(np.size(item_a,0),))).dot( item_a))\n",
    "        #computing weight vector\n",
    "        w = w - np.linalg.pinv(Hessian).dot(findgradient)\n",
    "    return w"
   ]
  },
  {
   "cell_type": "markdown",
   "id": "ff3051f0",
   "metadata": {},
   "source": [
    "# Computing the accuracy using the Newton Raphson Algorithm"
   ]
  },
  {
   "cell_type": "code",
   "execution_count": 11,
   "id": "7dd8b6d8",
   "metadata": {},
   "outputs": [
    {
     "name": "stderr",
     "output_type": "stream",
     "text": [
      "/Users/ivyajanga/opt/anaconda3/lib/python3.7/site-packages/ipykernel_launcher.py:12: RuntimeWarning: divide by zero encountered in log\n",
      "  if sys.path[0] == '':\n",
      "/Users/ivyajanga/opt/anaconda3/lib/python3.7/site-packages/ipykernel_launcher.py:12: RuntimeWarning: invalid value encountered in multiply\n",
      "  if sys.path[0] == '':\n"
     ]
    }
   ],
   "source": [
    "w = newton(train_x,train_y )"
   ]
  },
  {
   "cell_type": "code",
   "execution_count": 12,
   "id": "fb47e568",
   "metadata": {},
   "outputs": [],
   "source": [
    "prediction_newton = algorithmTopredict(test_x, w)"
   ]
  },
  {
   "cell_type": "code",
   "execution_count": 13,
   "id": "5cc831a6",
   "metadata": {},
   "outputs": [],
   "source": [
    "accuracy_newton = testaccuracyModel(test_y,prediction_newton)"
   ]
  },
  {
   "cell_type": "code",
   "execution_count": 14,
   "id": "180fa4cc",
   "metadata": {},
   "outputs": [
    {
     "name": "stdout",
     "output_type": "stream",
     "text": [
      "0.9649122807017544\n"
     ]
    }
   ],
   "source": [
    "print(accuracy_newton)"
   ]
  },
  {
   "cell_type": "markdown",
   "id": "66ea78c8",
   "metadata": {},
   "source": [
    "# Computing the accuracy of logistic regression using the sklearn"
   ]
  },
  {
   "cell_type": "code",
   "execution_count": 15,
   "id": "c401c5d1",
   "metadata": {},
   "outputs": [
    {
     "data": {
      "text/plain": [
       "LogisticRegression(solver='newton-cg')"
      ]
     },
     "execution_count": 15,
     "metadata": {},
     "output_type": "execute_result"
    }
   ],
   "source": [
    "from sklearn.linear_model import LogisticRegression\n",
    "\n",
    "valregression = LogisticRegression(solver = 'newton-cg')\n",
    "valregression.fit(train_x, train_y)"
   ]
  },
  {
   "cell_type": "code",
   "execution_count": 16,
   "id": "b817c321",
   "metadata": {},
   "outputs": [],
   "source": [
    "prediction_sk = valregression.predict(test_x)"
   ]
  },
  {
   "cell_type": "code",
   "execution_count": 17,
   "id": "3f802953",
   "metadata": {},
   "outputs": [],
   "source": [
    "Model_accuracy = testaccuracyModel(test_y,prediction_sk )"
   ]
  },
  {
   "cell_type": "code",
   "execution_count": 18,
   "id": "10aeda9f",
   "metadata": {},
   "outputs": [
    {
     "name": "stdout",
     "output_type": "stream",
     "text": [
      "0.9736842105263158\n"
     ]
    }
   ],
   "source": [
    "print(Model_accuracy)"
   ]
  },
  {
   "cell_type": "code",
   "execution_count": null,
   "id": "f3608b78",
   "metadata": {},
   "outputs": [],
   "source": []
  }
 ],
 "metadata": {
  "kernelspec": {
   "display_name": "Python 3 (ipykernel)",
   "language": "python",
   "name": "python3"
  },
  "language_info": {
   "codemirror_mode": {
    "name": "ipython",
    "version": 3
   },
   "file_extension": ".py",
   "mimetype": "text/x-python",
   "name": "python",
   "nbconvert_exporter": "python",
   "pygments_lexer": "ipython3",
   "version": "3.7.7"
  }
 },
 "nbformat": 4,
 "nbformat_minor": 5
}
